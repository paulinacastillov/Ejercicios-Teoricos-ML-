{
 "cells": [
  {
   "attachments": {},
   "cell_type": "markdown",
   "metadata": {},
   "source": [
    "# Ejercicios teórico\n",
    "---------------------------\n",
    "Mátematicas para el aprendizaje de máquina\n",
    "\n",
    "Paulina Castillo\n",
    "\n",
    "30 de mayo de 2023\n",
    "\n",
    "--------------------------\n"
   ]
  },
  {
   "attachments": {},
   "cell_type": "markdown",
   "metadata": {},
   "source": [
    "#### 1.2 ) Supongamos que utilizamos un perceptrón para detectar mensajes de spam. Digamos que cada mensaje de correo electrónico está representado por la frecuencia de aparición de palabras clave, y la salida es +1 si se considera que el mensaje es spam."
   ]
  },
  {
   "attachments": {},
   "cell_type": "markdown",
   "metadata": {},
   "source": [
    "\n",
    " a) ¿Puedes pensar en algunas palabras clave que terminarán con un peso positivo alto en el perceptrón?"
   ]
  },
  {
   "attachments": {},
   "cell_type": "markdown",
   "metadata": {},
   "source": [
    "* 'Principe nigeriano' / 'principe de Nigeria'\n",
    "* 'Clickee aquí' \n",
    "* 'Urgente'\n",
    "*  'Targeta de credito'\n",
    "* 'Cuenta suspendida'\n",
    "* 'Ganador'\n",
    "* 'Coljugos'"
   ]
  },
  {
   "attachments": {},
   "cell_type": "markdown",
   "metadata": {},
   "source": [
    "##### b) ¿Qué hay de las palabras clave que obtendrán un peso negativo?"
   ]
  },
  {
   "attachments": {},
   "cell_type": "markdown",
   "metadata": {},
   "source": [
    "* 'Trabajo'\n",
    "* 'Educación' \n",
    "* 'Invitación'\n",
    "* 'Familia'"
   ]
  },
  {
   "attachments": {},
   "cell_type": "markdown",
   "metadata": {},
   "source": [
    "##### c)  ¿Qué parámetro en el perceptrón afecta directamente a cuántos mensajes ambiguos terminan siendo clasificados como spam?"
   ]
  },
  {
   "attachments": {},
   "cell_type": "markdown",
   "metadata": {},
   "source": [
    "El parámetro en el perceptrón que afecta directamente a cuántos mensajes ambiguos terminan siendo clasificados como spam es el umbral de decisión. El umbral determina el punto en el que se toma la decisión de clasificar un mensaje como spam o no spam. Si el umbral es bajo, es más probable que se clasifiquen más mensajes como spam, incluyendo aquellos que podrían considerarse \"borderline\" o ambiguos. "
   ]
  },
  {
   "attachments": {},
   "cell_type": "markdown",
   "metadata": {},
   "source": [
    "#### 1.3) La regla de actualización de peso en (1.3) tiene la agradable interpretación de que se mueve en dirección de clasificar correctamente x(t)"
   ]
  },
  {
   "attachments": {},
   "cell_type": "markdown",
   "metadata": {},
   "source": [
    "##### a) Pruebe que $y(t)w^T(t)x(t) <0$"
   ]
  },
  {
   "attachments": {},
   "cell_type": "markdown",
   "metadata": {},
   "source": [
    "Como $x(t)$ está mal clasificado por $w(t)$ podemos asegurar que $y(t) = -sing(w^T(t)x(t))$, lo que implica $y(t)(w^T(t)x(t)) = -sing(w^T(t)x(t))(w^T(t)x(t))$"
   ]
  },
  {
   "attachments": {},
   "cell_type": "markdown",
   "metadata": {},
   "source": [
    "##### b) Pruebe que $y(t) \\mathbf{w}^{\\mathrm{T}}(t+1) \\mathbf{x}(t)>y(t) \\mathbf{w}^{\\mathrm{T}}(t) \\mathbf{x}(t)$"
   ]
  },
  {
   "attachments": {},
   "cell_type": "markdown",
   "metadata": {},
   "source": [
    "Se tiene, por el  (1.3)\n",
    "$$\n",
    "\\mathbf{w}(t+1)=\\mathbf{w}(t)+y(t) \\mathbf{x}(t) .\n",
    "$$\n",
    "Lo cual implica\n",
    "$$\n",
    "\\begin{aligned}\n",
    "y(t) \\mathbf{w}^{\\mathrm{T}}(t+1) \\mathbf{x}(t) & =y(t)(\\mathbf{w}(t)+y(t) \\mathbf{x}(t))^{\\mathrm{T}} \\mathbf{x}(t) \\\\\n",
    "& =y(t)\\left(\\mathbf{w}^{\\mathrm{T}}(t)+y(t) \\mathbf{x}^{\\mathrm{T}}(t)\\right) \\mathbf{x}(t) \\\\\n",
    "& =y(t) \\mathbf{w}^{\\mathrm{T}}(t) \\mathbf{x}(t)+(y(t))^2 \\mathbf{x}^{\\mathrm{T}}(t) \\mathbf{x}(t) \\\\\n",
    "& =y(t) \\mathbf{w}^{\\mathrm{T}}(t) \\mathbf{x}(t)+(y(t))^2 \\sum_{i=1}^d \\mathbf{x}(t)_i^2 \\\\\n",
    "& >y(t) \\mathbf{w}^{\\mathrm{T}}(t) \\mathbf{x}(t)\n",
    "\\end{aligned}\n",
    "$$\n"
   ]
  },
  {
   "attachments": {},
   "cell_type": "markdown",
   "metadata": {},
   "source": [
    "##### c)  En lo que respecta a clasificar x(t) , argumenta que el cambio de w(t)  a w(t +1)  es un movimiento \"en la dirección correcta\"."
   ]
  },
  {
   "attachments": {},
   "cell_type": "markdown",
   "metadata": {},
   "source": []
  },
  {
   "attachments": {},
   "cell_type": "markdown",
   "metadata": {},
   "source": [
    "#### 1.10 ) Aquí hay un experimento que ilustra la diferencia entre un solo compartimento y múltiples compartimentos. Ejecuta una simulación computacional de lanzamiento de 1,000 monedas justas. Lanza cada moneda de forma independiente 10 veces. Centrémonos en 3 monedas de la siguiente manera: c1 es la primera moneda lanzada; $C_{rand}$ es una moneda que eliges al azar; $C_{min}$ es la moneda que tuvo la frecuencia mínima de caras (elige la primera en caso de empate). Sean $v_1$, $v_{rand}$ y $v_{min}$ las fracciones de caras obtenidas para los respectivos lanzamientos."
   ]
  },
  {
   "attachments": {},
   "cell_type": "markdown",
   "metadata": {},
   "source": [
    "a) Cúal es $\\mu$ para las 3 monedas escogidas"
   ]
  },
  {
   "attachments": {},
   "cell_type": "markdown",
   "metadata": {},
   "source": [
    "b) Repite este experimento un número considerado de veces para conseguir varias instancias y plotear  los histogramas de distribución de  $v_1$, $v_{rand}$ y $v_{min}$"
   ]
  },
  {
   "attachments": {},
   "cell_type": "markdown",
   "metadata": {},
   "source": [
    "c) Usando el punto b), estima $P[|v-\\mu|>\\epsilon]$ como funciión de $\\epsilon$, junto con la cota de he Hoeffdin $2e^{-2\\epsilon^2N}$"
   ]
  },
  {
   "attachments": {},
   "cell_type": "markdown",
   "metadata": {},
   "source": [
    "d) Qué monedas obedecen a la cota de Hoeffdin. Explica porque"
   ]
  },
  {
   "attachments": {},
   "cell_type": "markdown",
   "metadata": {},
   "source": [
    "e) Relacione la parte (d) con los contenedores múltiples en la Figura 1.1"
   ]
  },
  {
   "attachments": {},
   "cell_type": "markdown",
   "metadata": {},
   "source": [
    "#### 1.11) Se nos proporciona un conjunto de datos D con 25 ejemplos de entrenamiento de una función objetivo desconocida f: W × X → Y, donde X ⊆ R y Y ⊆ {1, -1}. Para aprender f, utilizamos un conjunto de hipótesis simple H = {h1, h2}, donde h1 es la función constante +1 y h2 es la función constante -1.\n",
    "\n",
    "Consideramos dos algoritmos de aprendizaje, S (inteligente) y C (loco). S elige la hipótesis que coincide más con D, mientras que C elige deliberadamente la otra hipótesis. Veamos cómo se desempeñan estos algoritmos fuera de la muestra desde los puntos de vista determinístico y probabilístico. Supongamos, en la perspectiva probabilística, que hay una distribución de probabilidad en X, y sea P(f(x)) = p."
   ]
  },
  {
   "attachments": {},
   "cell_type": "markdown",
   "metadata": {},
   "source": [
    "a) ¿Puede S producir una hipótesis que esté garantizada de tener un mejor desempeño que al azar en cualquier punto fuera de D?"
   ]
  },
  {
   "attachments": {},
   "cell_type": "markdown",
   "metadata": {},
   "source": [
    "No. S va a escoger una hipótesis que se aprenda los datos de D, siendo posible que no predizca de manera correcta datos nuevos"
   ]
  },
  {
   "attachments": {},
   "cell_type": "markdown",
   "metadata": {},
   "source": [
    "b) Supongamos, para el resto del ejercicio, que todos los ejemplos en D tienen $y_n$ = 1. ¿Es posible que la hipótesis que produce C resulte ser mejor que la hipótesis que produce S?"
   ]
  },
  {
   "attachments": {},
   "cell_type": "markdown",
   "metadata": {},
   "source": [
    "Sí, por la escogencia de S sobre los datos de D"
   ]
  },
  {
   "attachments": {},
   "cell_type": "markdown",
   "metadata": {},
   "source": [
    "c) Si p = 0.9, ¿cuál es la probabilidad de que S produzca una hipótesis mejor que C?"
   ]
  },
  {
   "attachments": {},
   "cell_type": "markdown",
   "metadata": {},
   "source": [
    "S siempre producirá una mejor hipotesis que C, ya que la probabilidad de la hipotesis de $S$ es 0.9, la de C será 0.1, y 0.9>0.1 "
   ]
  },
  {
   "attachments": {},
   "cell_type": "markdown",
   "metadata": {},
   "source": [
    "d) ¿Existe algún valor de p para el cual sea más probable que C produzca una hipótesis mejor que S?"
   ]
  },
  {
   "attachments": {},
   "cell_type": "markdown",
   "metadata": {},
   "source": [
    "será $1/2$ dada las definiciones de las probalidades de S y C. ya que se tiene que cumplir la condición que \n",
    "$$1 - p > p$$"
   ]
  },
  {
   "attachments": {},
   "cell_type": "markdown",
   "metadata": {},
   "source": [
    "#### 1.12. Un amigo se acerca a ti con un problema de aprendizaje. Dice que la función objetivo f es completamente desconocida, pero tiene 4,000 puntos de datos. Está dispuesto a pagarte para resolver su problema y producirle una g que aproxime a f. ¿Qué es lo mejor que puedes prometerle de entre las siguientes opciones?\n",
    "\n",
    "(a) Después de aprender, le proporcionarás una g que garantizará una buena aproximación a f fuera de la muestra.\n",
    "\n",
    "(b) Después de aprender, le proporcionarás una g y con alta probabilidad, la g que produzcas aproximará bien a f fuera de la muestra.\n",
    "\n",
    "(c) Ocurrirá una de dos cosas.\n",
    "\n",
    "        (i) Producirás una hipótesis g;\n",
    "       (ii) Declararás que has fallado. Si devuelves una hipótesis g, entonces con alta probabilidad la g que produzcas aproximará bien a f fuera de la muestra."
   ]
  },
  {
   "attachments": {},
   "cell_type": "markdown",
   "metadata": {},
   "source": [
    "La mejor opción entre las mencionadas es (c). No se puede garantizar (a), ya que la función objetivo puede ser complicada de tratar, y por la misma razón, no se puede prometer (b) con una alta probabilidad de que la hipótesis g se aproxime a f. Sin embargo, si realmente se puede aprender de los datos, según la desigualdad de Hoeffding, se puede asegurar que g se acerque a f debido a la gran cantidad de puntos de datos disponibles. En particular, la probabilidad de que la diferencia entre el error dentro de la muestra y el error fuera de la muestra sea mayor a un valor dado ε es muy baja. Con un ε de alrededor de 0.06, esta probabilidad es casi del 0%, lo que implica que el error dentro y fuera de la muestra estarán separados en un rango de aproximadamente 0.06 con una alta probabilidad."
   ]
  },
  {
   "attachments": {},
   "cell_type": "markdown",
   "metadata": {},
   "source": []
  }
 ],
 "metadata": {
  "kernelspec": {
   "display_name": "Python 3",
   "language": "python",
   "name": "python3"
  },
  "language_info": {
   "name": "python",
   "version": "3.10.8"
  },
  "orig_nbformat": 4
 },
 "nbformat": 4,
 "nbformat_minor": 2
}
